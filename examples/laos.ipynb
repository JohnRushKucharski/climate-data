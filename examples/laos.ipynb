{
 "cells": [
  {
   "cell_type": "code",
   "execution_count": 1,
   "metadata": {},
   "outputs": [],
   "source": [
    "import sys\n",
    "sys.path.append('..')\n",
    "import climate_data.copernicus.cmip6 as cmip6\n",
    "import climate_data.copernicus.request as cds\n",
    "from climate_data.countries import get_country_bounding_box"
   ]
  },
  {
   "cell_type": "code",
   "execution_count": 2,
   "metadata": {},
   "outputs": [
    {
     "name": "stdout",
     "output_type": "stream",
     "text": [
      "(23, 100, 13, 108)\n"
     ]
    }
   ],
   "source": [
    "LAOS_BBOX = get_country_bounding_box(\"Laos\")\n",
    "print(LAOS_BBOX)"
   ]
  },
  {
   "cell_type": "code",
   "execution_count": 3,
   "metadata": {},
   "outputs": [],
   "source": [
    "small_request = cds.CMIP6Request(years=cmip6.HISTORY_YEARS[0:2], location=LAOS_BBOX)"
   ]
  },
  {
   "cell_type": "code",
   "execution_count": 4,
   "metadata": {},
   "outputs": [
    {
     "name": "stderr",
     "output_type": "stream",
     "text": [
      "2025-01-30 19:19:54,265 INFO [2024-09-26T00:00:00] Watch our [Forum](https://forum.ecmwf.int/) for Announcements, news and other discussed topics.\n",
      "2025-01-30 19:19:54,266 WARNING [2024-06-16T00:00:00] CDS API syntax is changed and some keys or parameter names may have also changed. To avoid requests failing, please use the \"Show API request code\" tool on the dataset Download Form to check you are using the correct syntax for your API request.\n",
      "2025-01-30 19:19:54,838 INFO Request ID is cd14f5c2-52e2-4c2e-b695-b1634b454e16\n",
      "2025-01-30 19:19:54,953 INFO status has been updated to accepted\n",
      "2025-01-30 19:19:59,915 INFO status has been updated to running\n",
      "2025-01-30 19:20:03,363 INFO status has been updated to accepted\n",
      "2025-01-30 19:20:08,481 INFO status has been updated to successful\n",
      "                                                                                       \r"
     ]
    },
    {
     "data": {
      "text/plain": [
       "'G:\\\\My Drive\\\\data\\\\gcms\\\\test\\\\cmip6\\\\tas\\\\monthly\\\\access_cm2_historical_185001-185112.nc'"
      ]
     },
     "execution_count": 4,
     "metadata": {},
     "output_type": "execute_result"
    }
   ],
   "source": [
    "dirbase = 'G:/My Drive/data/gcms/test/'\n",
    "small_request.download(directory=small_request.create_directories(dirbase), overwrite=True)"
   ]
  },
  {
   "cell_type": "code",
   "execution_count": 5,
   "metadata": {},
   "outputs": [
    {
     "name": "stdout",
     "output_type": "stream",
     "text": [
      "Downloading 1 requests to: G:/My Drive/data/gcms/test/\n"
     ]
    },
    {
     "name": "stderr",
     "output_type": "stream",
     "text": [
      "2025-01-30 19:20:13,213 INFO [2024-09-26T00:00:00] Watch our [Forum](https://forum.ecmwf.int/) for Announcements, news and other discussed topics.\n",
      "2025-01-30 19:20:13,215 WARNING [2024-06-16T00:00:00] CDS API syntax is changed and some keys or parameter names may have also changed. To avoid requests failing, please use the \"Show API request code\" tool on the dataset Download Form to check you are using the correct syntax for your API request.\n",
      "2025-01-30 19:20:13,805 INFO Request ID is c65fbd0b-fb8e-440b-822f-096ab96431ea\n",
      "2025-01-30 19:20:13,941 INFO status has been updated to accepted\n",
      "2025-01-30 19:20:22,471 INFO status has been updated to running\n",
      "2025-01-30 19:20:27,589 INFO status has been updated to successful\n",
      "                                                                                       "
     ]
    },
    {
     "name": "stdout",
     "output_type": "stream",
     "text": [
      "    [0] Status.SUCCESS: access_cm2_historical_185001-185112.nc\n",
      "Successfully processed 1 of 1 requests.\n"
     ]
    },
    {
     "name": "stderr",
     "output_type": "stream",
     "text": [
      "\r"
     ]
    }
   ],
   "source": [
    "small_requests = cds.build_CMIP6Requests(location=LAOS_BBOX,\n",
    "                                         variables=[cmip6.Variables.TEMP],\n",
    "                                         timesteps=[cmip6.TemporalResolutions.MONTHLY],\n",
    "                                         models=[cmip6.Models.ACCESS_CM2],\n",
    "                                         experiments=[cmip6.Experiments.HISTORICAL],\n",
    "                                         years=cmip6.HISTORY_YEARS[0:2])\n",
    "cds.download_requests(small_requests, dirbase, overwrite=True)"
   ]
  },
  {
   "cell_type": "code",
   "execution_count": 7,
   "metadata": {},
   "outputs": [
    {
     "name": "stdout",
     "output_type": "stream",
     "text": [
      "Downloading 2 requests to: G:/My Drive/data/gcms/test/\n"
     ]
    },
    {
     "name": "stderr",
     "output_type": "stream",
     "text": [
      "2025-01-30 19:22:14,202 INFO [2024-09-26T00:00:00] Watch our [Forum](https://forum.ecmwf.int/) for Announcements, news and other discussed topics.\n",
      "2025-01-30 19:22:14,204 WARNING [2024-06-16T00:00:00] CDS API syntax is changed and some keys or parameter names may have also changed. To avoid requests failing, please use the \"Show API request code\" tool on the dataset Download Form to check you are using the correct syntax for your API request.\n",
      "2025-01-30 19:22:14,943 INFO Request ID is 764bd884-6f18-4c71-9b88-bf0651d753ed\n",
      "2025-01-30 19:22:15,012 INFO status has been updated to accepted\n",
      "2025-01-30 19:22:23,384 INFO status has been updated to running\n",
      "2025-01-30 19:22:28,527 INFO status has been updated to successful\n",
      "2025-01-30 19:22:29,429 INFO [2024-09-26T00:00:00] Watch our [Forum](https://forum.ecmwf.int/) for Announcements, news and other discussed topics.\n",
      "2025-01-30 19:22:29,430 WARNING [2024-06-16T00:00:00] CDS API syntax is changed and some keys or parameter names may have also changed. To avoid requests failing, please use the \"Show API request code\" tool on the dataset Download Form to check you are using the correct syntax for your API request.\n"
     ]
    },
    {
     "name": "stdout",
     "output_type": "stream",
     "text": [
      "    [0] Status.SUCCESS: access_cm2_historical_185001-185112.nc\n"
     ]
    },
    {
     "name": "stderr",
     "output_type": "stream",
     "text": [
      "2025-01-30 19:22:29,846 INFO Request ID is 098bb473-a7a5-44b0-96b3-d842e5f5b5a9\n",
      "2025-01-30 19:22:29,993 INFO status has been updated to accepted\n",
      "2025-01-30 19:22:38,799 INFO status has been updated to running\n",
      "2025-01-30 19:22:51,677 INFO status has been updated to successful\n",
      "                                                                                       "
     ]
    },
    {
     "name": "stdout",
     "output_type": "stream",
     "text": [
      "    [1] Status.SUCCESS: access_esm1_5_historical_185001-185112.nc\n",
      "Successfully processed 2 of 2 requests.\n"
     ]
    },
    {
     "name": "stderr",
     "output_type": "stream",
     "text": [
      "\r"
     ]
    }
   ],
   "source": [
    "small_requests2 = cds.build_CMIP6Requests(location=LAOS_BBOX,\n",
    "                                         variables=[cmip6.Variables.TEMP],\n",
    "                                         timesteps=[cmip6.TemporalResolutions.MONTHLY],\n",
    "                                         models=[cmip6.Models.ACCESS_CM2, cmip6.Models.ACCESS_ESM1_5],\n",
    "                                         experiments=[cmip6.Experiments.HISTORICAL],\n",
    "                                         years=cmip6.HISTORY_YEARS[0:2])\n",
    "cds.download_requests(small_requests2, dirbase, overwrite=True)"
   ]
  },
  {
   "cell_type": "code",
   "execution_count": null,
   "metadata": {},
   "outputs": [],
   "source": [
    "LAOS_BBOX = get_country_bounding_box(\"Laos\")\n",
    "\n",
    "# print(cds.CMIP6Experiments)\n",
    "# listvals = cds.CMIP6Experiments.to_list()\n",
    "# print(listvals)\n",
    "\n",
    "directory = cds.cmip6_directory(\n",
    "    base_directory='G:/My Drive/data/gcms/test/',\n",
    "    variable=cds.CMIP6Variables.TEMP.value,\n",
    "    resolution=cds.CMIP6Resolutions.MONTHLY.value)\n",
    "# file_name = cds.name_cmip6_file(\n",
    "#     model=cds.CMIP6Models.ACCESS_CM2.value,\n",
    "#     yrs=cds.HISTORY_YEARS,\n",
    "#     mos=cds.MONTHS,\n",
    "#     ext=cds.FileFormats.NETCDF.value\n",
    "# )"
   ]
  },
  {
   "cell_type": "code",
   "execution_count": null,
   "metadata": {},
   "outputs": [],
   "source": [
    "data = cds.CMIP6ModelVariable(area=LAOS_BBOX,\n",
    "                              years=cds.HISTORY_YEARS[0:2],\n",
    "                              months=cds.MONTHS[4:6])\n",
    "request = cds.CMIP6FileRequest(model_variable=data, directory=directory)\n",
    "request.make_request(directory)"
   ]
  },
  {
   "cell_type": "code",
   "execution_count": null,
   "metadata": {},
   "outputs": [],
   "source": [
    "import xarray as xr"
   ]
  },
  {
   "cell_type": "code",
   "execution_count": null,
   "metadata": {},
   "outputs": [],
   "source": [
    "from pathlib import Path\n",
    "path = Path(r\"G:\\My Drive\\data\\gcms\\test\\cmip6\\tas\\monthly\\CMIP6Models.ACCESS_CM2_185001-185102\\tas_Amon_ACCESS-CM2_historical_r1i1p1f1_gn_18500116-18510215.nc\") \n",
    "data = xr.open_dataset(path)\n",
    "print(data)"
   ]
  },
  {
   "cell_type": "code",
   "execution_count": null,
   "metadata": {},
   "outputs": [],
   "source": [
    "a = set(['a', 'b'])\n",
    "a.add('a')\n",
    "print(a)"
   ]
  }
 ],
 "metadata": {
  "kernelspec": {
   "display_name": "climate-data-GzgDosFB-py3.12",
   "language": "python",
   "name": "python3"
  },
  "language_info": {
   "codemirror_mode": {
    "name": "ipython",
    "version": 3
   },
   "file_extension": ".py",
   "mimetype": "text/x-python",
   "name": "python",
   "nbconvert_exporter": "python",
   "pygments_lexer": "ipython3",
   "version": "3.12.8"
  }
 },
 "nbformat": 4,
 "nbformat_minor": 2
}
