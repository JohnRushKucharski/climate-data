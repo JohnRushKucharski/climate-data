{
 "cells": [
  {
   "cell_type": "code",
   "execution_count": 2,
   "metadata": {},
   "outputs": [],
   "source": [
    "import sys\n",
    "sys.path.append('..')\n",
    "import climate_data.copernicus.cmip6 as cmip6\n",
    "import climate_data.copernicus.request as cds\n",
    "from climate_data.countries import get_country_bounding_box"
   ]
  },
  {
   "cell_type": "code",
   "execution_count": 3,
   "metadata": {},
   "outputs": [
    {
     "name": "stdout",
     "output_type": "stream",
     "text": [
      "(23, 100, 13, 108)\n"
     ]
    }
   ],
   "source": [
    "LAOS_BBOX = get_country_bounding_box(\"Laos\")\n",
    "print(LAOS_BBOX)"
   ]
  },
  {
   "cell_type": "code",
   "execution_count": 4,
   "metadata": {},
   "outputs": [],
   "source": [
    "small_request = cds.CMIP6Request(years=cmip6.HISTORY_YEARS[0:2], location=LAOS_BBOX)"
   ]
  },
  {
   "cell_type": "code",
   "execution_count": 5,
   "metadata": {},
   "outputs": [
    {
     "name": "stderr",
     "output_type": "stream",
     "text": [
      "2025-01-30 19:14:16,717 INFO [2024-09-26T00:00:00] Watch our [Forum](https://forum.ecmwf.int/) for Announcements, news and other discussed topics.\n",
      "2025-01-30 19:14:16,719 WARNING [2024-06-16T00:00:00] CDS API syntax is changed and some keys or parameter names may have also changed. To avoid requests failing, please use the \"Show API request code\" tool on the dataset Download Form to check you are using the correct syntax for your API request.\n",
      "2025-01-30 19:14:17,224 INFO Request ID is 49dd08a8-23fe-4abc-b825-d300f212a6f1\n",
      "2025-01-30 19:14:17,335 INFO status has been updated to accepted\n",
      "2025-01-30 19:14:26,147 INFO status has been updated to running\n",
      "2025-01-30 19:14:31,283 INFO status has been updated to successful\n",
      "                                                                                       \r"
     ]
    },
    {
     "data": {
      "text/plain": [
       "'G:\\\\My Drive\\\\data\\\\gcms\\\\test\\\\cmip6\\\\tas\\\\monthly\\\\access_cm2_historical_185001-185112.nc'"
      ]
     },
     "execution_count": 5,
     "metadata": {},
     "output_type": "execute_result"
    }
   ],
   "source": [
    "dirbase = 'G:/My Drive/data/gcms/test/'\n",
    "small_request.download(directory=small_request.create_directories(dirbase), overwrite=True)"
   ]
  },
  {
   "cell_type": "code",
   "execution_count": 6,
   "metadata": {},
   "outputs": [
    {
     "name": "stderr",
     "output_type": "stream",
     "text": [
      "2025-01-30 19:14:35,657 INFO [2024-09-26T00:00:00] Watch our [Forum](https://forum.ecmwf.int/) for Announcements, news and other discussed topics.\n",
      "2025-01-30 19:14:35,658 WARNING [2024-06-16T00:00:00] CDS API syntax is changed and some keys or parameter names may have also changed. To avoid requests failing, please use the \"Show API request code\" tool on the dataset Download Form to check you are using the correct syntax for your API request.\n"
     ]
    },
    {
     "name": "stdout",
     "output_type": "stream",
     "text": [
      "Downloading 1 requests to: G:/My Drive/data/gcms/test/\n"
     ]
    },
    {
     "name": "stderr",
     "output_type": "stream",
     "text": [
      "2025-01-30 19:14:36,558 INFO Request ID is 6a8b42f1-d61e-4180-a234-1b38ff69d664\n",
      "2025-01-30 19:14:36,662 INFO status has been updated to accepted\n",
      "2025-01-30 19:14:50,349 INFO status has been updated to successful\n",
      "                                                                                       \r"
     ]
    },
    {
     "ename": "TypeError",
     "evalue": "endswith first arg must be str or a tuple of str, not FileFormats",
     "output_type": "error",
     "traceback": [
      "\u001b[1;31m---------------------------------------------------------------------------\u001b[0m",
      "\u001b[1;31mTypeError\u001b[0m                                 Traceback (most recent call last)",
      "Cell \u001b[1;32mIn[6], line 7\u001b[0m\n\u001b[0;32m      1\u001b[0m small_requests \u001b[38;5;241m=\u001b[39m cds\u001b[38;5;241m.\u001b[39mbuild_CMIP6Requests(location\u001b[38;5;241m=\u001b[39mLAOS_BBOX,\n\u001b[0;32m      2\u001b[0m                                          variables\u001b[38;5;241m=\u001b[39m[cmip6\u001b[38;5;241m.\u001b[39mVariables\u001b[38;5;241m.\u001b[39mTEMP],\n\u001b[0;32m      3\u001b[0m                                          timesteps\u001b[38;5;241m=\u001b[39m[cmip6\u001b[38;5;241m.\u001b[39mTemporalResolutions\u001b[38;5;241m.\u001b[39mMONTHLY],\n\u001b[0;32m      4\u001b[0m                                          models\u001b[38;5;241m=\u001b[39m[cmip6\u001b[38;5;241m.\u001b[39mModels\u001b[38;5;241m.\u001b[39mACCESS_CM2],\n\u001b[0;32m      5\u001b[0m                                          experiments\u001b[38;5;241m=\u001b[39m[cmip6\u001b[38;5;241m.\u001b[39mExperiments\u001b[38;5;241m.\u001b[39mHISTORICAL],\n\u001b[0;32m      6\u001b[0m                                          years\u001b[38;5;241m=\u001b[39mcmip6\u001b[38;5;241m.\u001b[39mHISTORY_YEARS[\u001b[38;5;241m0\u001b[39m:\u001b[38;5;241m2\u001b[39m])\n\u001b[1;32m----> 7\u001b[0m \u001b[43mcds\u001b[49m\u001b[38;5;241;43m.\u001b[39;49m\u001b[43mdownload_requests\u001b[49m\u001b[43m(\u001b[49m\u001b[43msmall_requests\u001b[49m\u001b[43m,\u001b[49m\u001b[43m \u001b[49m\u001b[43mdirbase\u001b[49m\u001b[43m,\u001b[49m\u001b[43m \u001b[49m\u001b[43moverwrite\u001b[49m\u001b[38;5;241;43m=\u001b[39;49m\u001b[38;5;28;43;01mTrue\u001b[39;49;00m\u001b[43m)\u001b[49m\n",
      "File \u001b[1;32m~\\dev\\climate-data\\climate_data\\copernicus\\request.py:227\u001b[0m, in \u001b[0;36mdownload_requests\u001b[1;34m(requests, base_directory, overwrite, file_format)\u001b[0m\n\u001b[0;32m    225\u001b[0m \u001b[38;5;28mprint\u001b[39m(\u001b[38;5;124mf\u001b[39m\u001b[38;5;124m'\u001b[39m\u001b[38;5;124mDownloading \u001b[39m\u001b[38;5;132;01m{\u001b[39;00m\u001b[38;5;28mlen\u001b[39m(requests)\u001b[38;5;132;01m}\u001b[39;00m\u001b[38;5;124m requests to: \u001b[39m\u001b[38;5;132;01m{\u001b[39;00mbase_directory\u001b[38;5;132;01m}\u001b[39;00m\u001b[38;5;124m'\u001b[39m)\n\u001b[0;32m    226\u001b[0m \u001b[38;5;28;01mfor\u001b[39;00m i, r \u001b[38;5;129;01min\u001b[39;00m \u001b[38;5;28menumerate\u001b[39m(requests):\n\u001b[1;32m--> 227\u001b[0m     \u001b[43mr\u001b[49m\u001b[38;5;241;43m.\u001b[39;49m\u001b[43mdownload\u001b[49m\u001b[43m(\u001b[49m\u001b[43mr\u001b[49m\u001b[38;5;241;43m.\u001b[39;49m\u001b[43mcreate_directories\u001b[49m\u001b[43m(\u001b[49m\u001b[43mbase_directory\u001b[49m\u001b[43m)\u001b[49m\u001b[43m,\u001b[49m\n\u001b[0;32m    228\u001b[0m \u001b[43m               \u001b[49m\u001b[43moverwrite\u001b[49m\u001b[38;5;241;43m=\u001b[39;49m\u001b[43moverwrite\u001b[49m\u001b[43m,\u001b[49m\u001b[43m \u001b[49m\u001b[43mfile_format\u001b[49m\u001b[38;5;241;43m=\u001b[39;49m\u001b[43mfile_format\u001b[49m\u001b[43m)\u001b[49m\n\u001b[0;32m    229\u001b[0m     \u001b[38;5;28mprint\u001b[39m(\u001b[38;5;124mf\u001b[39m\u001b[38;5;124m'''\u001b[39m\u001b[38;5;124m    \u001b[39m\u001b[38;5;132;01m{\u001b[39;00m[i]\u001b[38;5;132;01m}\u001b[39;00m\u001b[38;5;124m \u001b[39m\u001b[38;5;132;01m{\u001b[39;00mr\u001b[38;5;241m.\u001b[39mstatus\u001b[38;5;132;01m}\u001b[39;00m\u001b[38;5;124m: \u001b[39m\u001b[38;5;132;01m{\u001b[39;00mr\u001b[38;5;241m.\u001b[39mfile_chain[\u001b[38;5;241m-\u001b[39m\u001b[38;5;241m1\u001b[39m]\u001b[38;5;241m.\u001b[39mname\u001b[38;5;132;01m}\u001b[39;00m\u001b[38;5;124m'''\u001b[39m)\n\u001b[0;32m    230\u001b[0m     \u001b[38;5;28;01mif\u001b[39;00m r\u001b[38;5;241m.\u001b[39mstatus \u001b[38;5;241m==\u001b[39m Status\u001b[38;5;241m.\u001b[39mSUCCESS:\n",
      "File \u001b[1;32m~\\dev\\climate-data\\climate_data\\copernicus\\request.py:146\u001b[0m, in \u001b[0;36mCMIP6Request.download\u001b[1;34m(self, directory, file_name, overwrite, file_format)\u001b[0m\n\u001b[0;32m    144\u001b[0m     \u001b[38;5;28mself\u001b[39m\u001b[38;5;241m.\u001b[39mstatus \u001b[38;5;241m=\u001b[39m Status\u001b[38;5;241m.\u001b[39mERROR\n\u001b[0;32m    145\u001b[0m     \u001b[38;5;28;01mreturn\u001b[39;00m \u001b[38;5;124mf\u001b[39m\u001b[38;5;124m'\u001b[39m\u001b[38;5;124mError: \u001b[39m\u001b[38;5;132;01m{\u001b[39;00me\u001b[38;5;132;01m}\u001b[39;00m\u001b[38;5;124m'\u001b[39m\n\u001b[1;32m--> 146\u001b[0m \u001b[38;5;28;43mself\u001b[39;49m\u001b[38;5;241;43m.\u001b[39;49m\u001b[43munzip_file\u001b[49m\u001b[43m(\u001b[49m\u001b[38;5;28;43mself\u001b[39;49m\u001b[38;5;241;43m.\u001b[39;49m\u001b[43mfile_chain\u001b[49m\u001b[43m[\u001b[49m\u001b[38;5;241;43m-\u001b[39;49m\u001b[38;5;241;43m1\u001b[39;49m\u001b[43m]\u001b[49m\u001b[43m,\u001b[49m\u001b[43m \u001b[49m\u001b[43mPath\u001b[49m\u001b[43m(\u001b[49m\u001b[43mfile_name\u001b[49m\u001b[43m)\u001b[49m\u001b[38;5;241;43m.\u001b[39;49m\u001b[43mstem\u001b[49m\u001b[43m,\u001b[49m\u001b[43m \u001b[49m\u001b[43mfile_format\u001b[49m\u001b[43m,\u001b[49m\u001b[43m \u001b[49m\u001b[43moverwrite\u001b[49m\u001b[43m)\u001b[49m\n\u001b[0;32m    147\u001b[0m \u001b[38;5;28;01mreturn\u001b[39;00m \u001b[38;5;28mstr\u001b[39m(\u001b[38;5;28mself\u001b[39m\u001b[38;5;241m.\u001b[39mfile_chain[\u001b[38;5;241m-\u001b[39m\u001b[38;5;241m1\u001b[39m])\n",
      "File \u001b[1;32m~\\dev\\climate-data\\climate_data\\copernicus\\request.py:167\u001b[0m, in \u001b[0;36mCMIP6Request.unzip_file\u001b[1;34m(self, zippath, file_name, file_format, overwrite)\u001b[0m\n\u001b[0;32m    165\u001b[0m new_name \u001b[38;5;241m=\u001b[39m Path(zippath)\u001b[38;5;241m.\u001b[39mparent \u001b[38;5;241m/\u001b[39m file_name\n\u001b[0;32m    166\u001b[0m \u001b[38;5;28;01mwith\u001b[39;00m zipfile\u001b[38;5;241m.\u001b[39mZipFile(zippath, \u001b[38;5;124m'\u001b[39m\u001b[38;5;124mr\u001b[39m\u001b[38;5;124m'\u001b[39m) \u001b[38;5;28;01mas\u001b[39;00m zip_ref:\n\u001b[1;32m--> 167\u001b[0m     files \u001b[38;5;241m=\u001b[39m [f \u001b[38;5;28;01mfor\u001b[39;00m f \u001b[38;5;129;01min\u001b[39;00m zip_ref\u001b[38;5;241m.\u001b[39mnamelist() \u001b[38;5;28;01mif\u001b[39;00m \u001b[43mf\u001b[49m\u001b[38;5;241;43m.\u001b[39;49m\u001b[43mendswith\u001b[49m\u001b[43m(\u001b[49m\u001b[43mfile_format\u001b[49m\u001b[43m)\u001b[49m]\n\u001b[0;32m    168\u001b[0m     \u001b[38;5;28;01mif\u001b[39;00m \u001b[38;5;28mlen\u001b[39m(files) \u001b[38;5;241m==\u001b[39m \u001b[38;5;241m0\u001b[39m:\n\u001b[0;32m    169\u001b[0m         \u001b[38;5;28mself\u001b[39m\u001b[38;5;241m.\u001b[39mstatus \u001b[38;5;241m=\u001b[39m Status\u001b[38;5;241m.\u001b[39mERROR\n",
      "\u001b[1;31mTypeError\u001b[0m: endswith first arg must be str or a tuple of str, not FileFormats"
     ]
    }
   ],
   "source": [
    "small_requests = cds.build_CMIP6Requests(location=LAOS_BBOX,\n",
    "                                         variables=[cmip6.Variables.TEMP],\n",
    "                                         timesteps=[cmip6.TemporalResolutions.MONTHLY],\n",
    "                                         models=[cmip6.Models.ACCESS_CM2],\n",
    "                                         experiments=[cmip6.Experiments.HISTORICAL],\n",
    "                                         years=cmip6.HISTORY_YEARS[0:2])\n",
    "cds.download_requests(small_requests, dirbase, overwrite=True)"
   ]
  },
  {
   "cell_type": "code",
   "execution_count": null,
   "metadata": {},
   "outputs": [
    {
     "ename": "",
     "evalue": "",
     "output_type": "error",
     "traceback": [
      "\u001b[1;31mnotebook controller is DISPOSED. \n",
      "\u001b[1;31mView Jupyter <a href='command:jupyter.viewOutput'>log</a> for further details."
     ]
    }
   ],
   "source": [
    "LAOS_BBOX = get_country_bounding_box(\"Laos\")\n",
    "\n",
    "# print(cds.CMIP6Experiments)\n",
    "# listvals = cds.CMIP6Experiments.to_list()\n",
    "# print(listvals)\n",
    "\n",
    "directory = cds.cmip6_directory(\n",
    "    base_directory='G:/My Drive/data/gcms/test/',\n",
    "    variable=cds.CMIP6Variables.TEMP.value,\n",
    "    resolution=cds.CMIP6Resolutions.MONTHLY.value)\n",
    "# file_name = cds.name_cmip6_file(\n",
    "#     model=cds.CMIP6Models.ACCESS_CM2.value,\n",
    "#     yrs=cds.HISTORY_YEARS,\n",
    "#     mos=cds.MONTHS,\n",
    "#     ext=cds.FileFormats.NETCDF.value\n",
    "# )"
   ]
  },
  {
   "cell_type": "code",
   "execution_count": null,
   "metadata": {},
   "outputs": [
    {
     "ename": "",
     "evalue": "",
     "output_type": "error",
     "traceback": [
      "\u001b[1;31mnotebook controller is DISPOSED. \n",
      "\u001b[1;31mView Jupyter <a href='command:jupyter.viewOutput'>log</a> for further details."
     ]
    }
   ],
   "source": [
    "data = cds.CMIP6ModelVariable(area=LAOS_BBOX,\n",
    "                              years=cds.HISTORY_YEARS[0:2],\n",
    "                              months=cds.MONTHS[4:6])\n",
    "request = cds.CMIP6FileRequest(model_variable=data, directory=directory)\n",
    "request.make_request(directory)"
   ]
  },
  {
   "cell_type": "code",
   "execution_count": null,
   "metadata": {},
   "outputs": [
    {
     "ename": "",
     "evalue": "",
     "output_type": "error",
     "traceback": [
      "\u001b[1;31mnotebook controller is DISPOSED. \n",
      "\u001b[1;31mView Jupyter <a href='command:jupyter.viewOutput'>log</a> for further details."
     ]
    }
   ],
   "source": [
    "import xarray as xr"
   ]
  },
  {
   "cell_type": "code",
   "execution_count": null,
   "metadata": {},
   "outputs": [
    {
     "ename": "",
     "evalue": "",
     "output_type": "error",
     "traceback": [
      "\u001b[1;31mnotebook controller is DISPOSED. \n",
      "\u001b[1;31mView Jupyter <a href='command:jupyter.viewOutput'>log</a> for further details."
     ]
    }
   ],
   "source": [
    "from pathlib import Path\n",
    "path = Path(r\"G:\\My Drive\\data\\gcms\\test\\cmip6\\tas\\monthly\\CMIP6Models.ACCESS_CM2_185001-185102\\tas_Amon_ACCESS-CM2_historical_r1i1p1f1_gn_18500116-18510215.nc\") \n",
    "data = xr.open_dataset(path)\n",
    "print(data)"
   ]
  },
  {
   "cell_type": "code",
   "execution_count": null,
   "metadata": {},
   "outputs": [
    {
     "ename": "",
     "evalue": "",
     "output_type": "error",
     "traceback": [
      "\u001b[1;31mnotebook controller is DISPOSED. \n",
      "\u001b[1;31mView Jupyter <a href='command:jupyter.viewOutput'>log</a> for further details."
     ]
    }
   ],
   "source": [
    "a = set(['a', 'b'])\n",
    "a.add('a')\n",
    "print(a)"
   ]
  }
 ],
 "metadata": {
  "kernelspec": {
   "display_name": "climate-data-GzgDosFB-py3.12",
   "language": "python",
   "name": "python3"
  },
  "language_info": {
   "codemirror_mode": {
    "name": "ipython",
    "version": 3
   },
   "file_extension": ".py",
   "mimetype": "text/x-python",
   "name": "python",
   "nbconvert_exporter": "python",
   "pygments_lexer": "ipython3",
   "version": "3.12.8"
  }
 },
 "nbformat": 4,
 "nbformat_minor": 2
}
