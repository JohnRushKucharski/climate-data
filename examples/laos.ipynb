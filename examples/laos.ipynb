{
 "cells": [
  {
   "cell_type": "code",
   "execution_count": 1,
   "metadata": {},
   "outputs": [],
   "source": [
    "import sys\n",
    "sys.path.append('..')\n",
    "import climate_data.copernicus.cmip6 as cmip6\n",
    "import climate_data.copernicus.request as cds\n",
    "from climate_data.countries import get_country_bounding_box"
   ]
  },
  {
   "cell_type": "code",
   "execution_count": 2,
   "metadata": {},
   "outputs": [
    {
     "name": "stdout",
     "output_type": "stream",
     "text": [
      "(23, 100, 13, 108)\n"
     ]
    }
   ],
   "source": [
    "LAOS_BBOX = get_country_bounding_box(\"Laos\")\n",
    "print(LAOS_BBOX)"
   ]
  },
  {
   "cell_type": "code",
   "execution_count": 3,
   "metadata": {},
   "outputs": [],
   "source": [
    "small_request = cds.CMIP6Request(years=cmip6.HISTORY_YEARS[0:2], location=LAOS_BBOX)"
   ]
  },
  {
   "cell_type": "code",
   "execution_count": 5,
   "metadata": {},
   "outputs": [
    {
     "name": "stderr",
     "output_type": "stream",
     "text": [
      "2024-12-23 13:28:07,690 INFO [2024-09-28T00:00:00] **Welcome to the New Climate Data Store (CDS)!** This new system is in its early days of full operations and still undergoing enhancements and fine tuning. Some disruptions are to be expected. Your \n",
      "[feedback](https://jira.ecmwf.int/plugins/servlet/desk/portal/1/create/202) is key to improve the user experience on the new CDS for the benefit of everyone. Thank you.\n",
      "2024-12-23 13:28:07,693 INFO [2024-09-26T00:00:00] Watch our [Forum](https://forum.ecmwf.int/) for Announcements, news and other discussed topics.\n",
      "2024-12-23 13:28:07,694 INFO [2024-09-16T00:00:00] Remember that you need to have an ECMWF account to use the new CDS. **Your old CDS credentials will not work in new CDS!**\n",
      "2024-12-23 13:28:07,696 WARNING [2024-06-16T00:00:00] CDS API syntax is changed and some keys or parameter names may have also changed. To avoid requests failing, please use the \"Show API request code\" tool on the dataset Download Form to check you are using the correct syntax for your API request.\n",
      "2024-12-23 13:28:09,368 INFO Request ID is 80ad2081-5766-4a29-afde-5482fbd24478\n",
      "2024-12-23 13:28:09,802 INFO status has been updated to accepted\n",
      "2024-12-23 13:28:19,385 INFO status has been updated to running\n",
      "2024-12-23 13:28:24,884 INFO status has been updated to successful\n",
      "                                                                                       \r"
     ]
    },
    {
     "data": {
      "text/plain": [
       "WindowsPath('G:/My Drive/data/gcms/test/cmip6/tas/monthly/access_cm2_historical_185001-185112.nc')"
      ]
     },
     "execution_count": 5,
     "metadata": {},
     "output_type": "execute_result"
    }
   ],
   "source": [
    "dirbase = 'G:/My Drive/data/gcms/test/'\n",
    "small_request.download(directory=small_request.create_directories(dirbase))"
   ]
  },
  {
   "cell_type": "code",
   "execution_count": null,
   "metadata": {},
   "outputs": [],
   "source": []
  },
  {
   "cell_type": "code",
   "execution_count": 2,
   "metadata": {},
   "outputs": [],
   "source": [
    "LAOS_BBOX = get_country_bounding_box(\"Laos\")\n",
    "\n",
    "# print(cds.CMIP6Experiments)\n",
    "# listvals = cds.CMIP6Experiments.to_list()\n",
    "# print(listvals)\n",
    "\n",
    "directory = cds.cmip6_directory(\n",
    "    base_directory='G:/My Drive/data/gcms/test/',\n",
    "    variable=cds.CMIP6Variables.TEMP.value,\n",
    "    resolution=cds.CMIP6Resolutions.MONTHLY.value)\n",
    "# file_name = cds.name_cmip6_file(\n",
    "#     model=cds.CMIP6Models.ACCESS_CM2.value,\n",
    "#     yrs=cds.HISTORY_YEARS,\n",
    "#     mos=cds.MONTHS,\n",
    "#     ext=cds.FileFormats.NETCDF.value\n",
    "# )"
   ]
  },
  {
   "cell_type": "code",
   "execution_count": null,
   "metadata": {},
   "outputs": [],
   "source": [
    "data = cds.CMIP6ModelVariable(area=LAOS_BBOX,\n",
    "                              years=cds.HISTORY_YEARS[0:2],\n",
    "                              months=cds.MONTHS[4:6])\n",
    "request = cds.CMIP6FileRequest(model_variable=data, directory=directory)\n",
    "request.make_request(directory)"
   ]
  },
  {
   "cell_type": "code",
   "execution_count": 4,
   "metadata": {},
   "outputs": [],
   "source": [
    "import xarray as xr"
   ]
  },
  {
   "cell_type": "code",
   "execution_count": null,
   "metadata": {},
   "outputs": [],
   "source": [
    "from pathlib import Path\n",
    "path = Path(r\"G:\\My Drive\\data\\gcms\\test\\cmip6\\tas\\monthly\\CMIP6Models.ACCESS_CM2_185001-185102\\tas_Amon_ACCESS-CM2_historical_r1i1p1f1_gn_18500116-18510215.nc\") \n",
    "data = xr.open_dataset(path)\n",
    "print(data)"
   ]
  },
  {
   "cell_type": "code",
   "execution_count": null,
   "metadata": {},
   "outputs": [],
   "source": [
    "a = set(['a', 'b'])\n",
    "a.add('a')\n",
    "print(a)"
   ]
  }
 ],
 "metadata": {
  "kernelspec": {
   "display_name": "climate-data-GzgDosFB-py3.12",
   "language": "python",
   "name": "python3"
  },
  "language_info": {
   "codemirror_mode": {
    "name": "ipython",
    "version": 3
   },
   "file_extension": ".py",
   "mimetype": "text/x-python",
   "name": "python",
   "nbconvert_exporter": "python",
   "pygments_lexer": "ipython3",
   "version": "3.12.8"
  }
 },
 "nbformat": 4,
 "nbformat_minor": 2
}
